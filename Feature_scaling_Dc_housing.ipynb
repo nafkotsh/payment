{
 "cells": [
  {
   "cell_type": "code",
   "execution_count": 172,
   "metadata": {},
   "outputs": [],
   "source": [
    "import pandas as pd\n",
    "import numpy as np\n",
    "from sklearn import preprocessing\n",
    "from sklearn.preprocessing import StandardScaler\n",
    "from sklearn.preprocessing import MinMaxScaler\n",
    "\n",
    "%matplotlib inline"
   ]
  },
  {
   "cell_type": "code",
   "execution_count": 173,
   "metadata": {},
   "outputs": [
    {
     "name": "stderr",
     "output_type": "stream",
     "text": [
      "C:\\ProgramData\\Anaconda3\\lib\\site-packages\\IPython\\core\\interactiveshell.py:3058: DtypeWarning: Columns (18,19,20,21,22,23,24,33,34,35,37,43,45) have mixed types. Specify dtype option on import or set low_memory=False.\n",
      "  interactivity=interactivity, compiler=compiler, result=result)\n"
     ]
    },
    {
     "data": {
      "text/html": [
       "<div>\n",
       "<style scoped>\n",
       "    .dataframe tbody tr th:only-of-type {\n",
       "        vertical-align: middle;\n",
       "    }\n",
       "\n",
       "    .dataframe tbody tr th {\n",
       "        vertical-align: top;\n",
       "    }\n",
       "\n",
       "    .dataframe thead th {\n",
       "        text-align: right;\n",
       "    }\n",
       "</style>\n",
       "<table border=\"1\" class=\"dataframe\">\n",
       "  <thead>\n",
       "    <tr style=\"text-align: right;\">\n",
       "      <th></th>\n",
       "      <th>Unnamed: 0</th>\n",
       "      <th>BATHRM</th>\n",
       "      <th>HF_BATHRM</th>\n",
       "      <th>HEAT</th>\n",
       "      <th>AC</th>\n",
       "      <th>NUM_UNITS</th>\n",
       "      <th>ROOMS</th>\n",
       "      <th>BEDRM</th>\n",
       "      <th>AYB</th>\n",
       "      <th>YR_RMDL</th>\n",
       "      <th>...</th>\n",
       "      <th>LONGITUDE</th>\n",
       "      <th>ASSESSMENT_NBHD</th>\n",
       "      <th>ASSESSMENT_SUBNBHD</th>\n",
       "      <th>CENSUS_TRACT</th>\n",
       "      <th>CENSUS_BLOCK</th>\n",
       "      <th>WARD</th>\n",
       "      <th>SQUARE</th>\n",
       "      <th>X</th>\n",
       "      <th>Y</th>\n",
       "      <th>QUADRANT</th>\n",
       "    </tr>\n",
       "  </thead>\n",
       "  <tbody>\n",
       "    <tr>\n",
       "      <td>0</td>\n",
       "      <td>0</td>\n",
       "      <td>4</td>\n",
       "      <td>0</td>\n",
       "      <td>Warm Cool</td>\n",
       "      <td>Y</td>\n",
       "      <td>2.0</td>\n",
       "      <td>8</td>\n",
       "      <td>4</td>\n",
       "      <td>1910.0</td>\n",
       "      <td>1988.0</td>\n",
       "      <td>...</td>\n",
       "      <td>-77.040832</td>\n",
       "      <td>Old City 2</td>\n",
       "      <td>040 D Old City 2</td>\n",
       "      <td>4201.0</td>\n",
       "      <td>004201 2006</td>\n",
       "      <td>Ward 2</td>\n",
       "      <td>152</td>\n",
       "      <td>-77.040429</td>\n",
       "      <td>38.914881</td>\n",
       "      <td>NW</td>\n",
       "    </tr>\n",
       "    <tr>\n",
       "      <td>1</td>\n",
       "      <td>1</td>\n",
       "      <td>3</td>\n",
       "      <td>1</td>\n",
       "      <td>Warm Cool</td>\n",
       "      <td>Y</td>\n",
       "      <td>2.0</td>\n",
       "      <td>11</td>\n",
       "      <td>5</td>\n",
       "      <td>1898.0</td>\n",
       "      <td>2007.0</td>\n",
       "      <td>...</td>\n",
       "      <td>-77.040764</td>\n",
       "      <td>Old City 2</td>\n",
       "      <td>040 D Old City 2</td>\n",
       "      <td>4201.0</td>\n",
       "      <td>004201 2006</td>\n",
       "      <td>Ward 2</td>\n",
       "      <td>152</td>\n",
       "      <td>-77.040429</td>\n",
       "      <td>38.914881</td>\n",
       "      <td>NW</td>\n",
       "    </tr>\n",
       "    <tr>\n",
       "      <td>2</td>\n",
       "      <td>2</td>\n",
       "      <td>3</td>\n",
       "      <td>1</td>\n",
       "      <td>Hot Water Rad</td>\n",
       "      <td>Y</td>\n",
       "      <td>2.0</td>\n",
       "      <td>9</td>\n",
       "      <td>5</td>\n",
       "      <td>1910.0</td>\n",
       "      <td>2009.0</td>\n",
       "      <td>...</td>\n",
       "      <td>-77.040678</td>\n",
       "      <td>Old City 2</td>\n",
       "      <td>040 D Old City 2</td>\n",
       "      <td>4201.0</td>\n",
       "      <td>004201 2006</td>\n",
       "      <td>Ward 2</td>\n",
       "      <td>152</td>\n",
       "      <td>-77.040429</td>\n",
       "      <td>38.914881</td>\n",
       "      <td>NW</td>\n",
       "    </tr>\n",
       "    <tr>\n",
       "      <td>3</td>\n",
       "      <td>3</td>\n",
       "      <td>3</td>\n",
       "      <td>1</td>\n",
       "      <td>Hot Water Rad</td>\n",
       "      <td>Y</td>\n",
       "      <td>2.0</td>\n",
       "      <td>8</td>\n",
       "      <td>5</td>\n",
       "      <td>1900.0</td>\n",
       "      <td>2003.0</td>\n",
       "      <td>...</td>\n",
       "      <td>-77.040629</td>\n",
       "      <td>Old City 2</td>\n",
       "      <td>040 D Old City 2</td>\n",
       "      <td>4201.0</td>\n",
       "      <td>004201 2006</td>\n",
       "      <td>Ward 2</td>\n",
       "      <td>152</td>\n",
       "      <td>-77.040429</td>\n",
       "      <td>38.914881</td>\n",
       "      <td>NW</td>\n",
       "    </tr>\n",
       "    <tr>\n",
       "      <td>4</td>\n",
       "      <td>4</td>\n",
       "      <td>2</td>\n",
       "      <td>1</td>\n",
       "      <td>Warm Cool</td>\n",
       "      <td>Y</td>\n",
       "      <td>1.0</td>\n",
       "      <td>11</td>\n",
       "      <td>3</td>\n",
       "      <td>1913.0</td>\n",
       "      <td>2012.0</td>\n",
       "      <td>...</td>\n",
       "      <td>-77.039361</td>\n",
       "      <td>Old City 2</td>\n",
       "      <td>040 D Old City 2</td>\n",
       "      <td>4201.0</td>\n",
       "      <td>004201 2006</td>\n",
       "      <td>Ward 2</td>\n",
       "      <td>152</td>\n",
       "      <td>-77.040429</td>\n",
       "      <td>38.914881</td>\n",
       "      <td>NW</td>\n",
       "    </tr>\n",
       "  </tbody>\n",
       "</table>\n",
       "<p>5 rows × 49 columns</p>\n",
       "</div>"
      ],
      "text/plain": [
       "   Unnamed: 0  BATHRM  HF_BATHRM           HEAT AC  NUM_UNITS  ROOMS  BEDRM  \\\n",
       "0           0       4          0      Warm Cool  Y        2.0      8      4   \n",
       "1           1       3          1      Warm Cool  Y        2.0     11      5   \n",
       "2           2       3          1  Hot Water Rad  Y        2.0      9      5   \n",
       "3           3       3          1  Hot Water Rad  Y        2.0      8      5   \n",
       "4           4       2          1      Warm Cool  Y        1.0     11      3   \n",
       "\n",
       "      AYB  YR_RMDL  ...  LONGITUDE  ASSESSMENT_NBHD ASSESSMENT_SUBNBHD  \\\n",
       "0  1910.0   1988.0  ... -77.040832       Old City 2   040 D Old City 2   \n",
       "1  1898.0   2007.0  ... -77.040764       Old City 2   040 D Old City 2   \n",
       "2  1910.0   2009.0  ... -77.040678       Old City 2   040 D Old City 2   \n",
       "3  1900.0   2003.0  ... -77.040629       Old City 2   040 D Old City 2   \n",
       "4  1913.0   2012.0  ... -77.039361       Old City 2   040 D Old City 2   \n",
       "\n",
       "   CENSUS_TRACT CENSUS_BLOCK    WARD  SQUARE          X          Y QUADRANT  \n",
       "0        4201.0  004201 2006  Ward 2     152 -77.040429  38.914881       NW  \n",
       "1        4201.0  004201 2006  Ward 2     152 -77.040429  38.914881       NW  \n",
       "2        4201.0  004201 2006  Ward 2     152 -77.040429  38.914881       NW  \n",
       "3        4201.0  004201 2006  Ward 2     152 -77.040429  38.914881       NW  \n",
       "4        4201.0  004201 2006  Ward 2     152 -77.040429  38.914881       NW  \n",
       "\n",
       "[5 rows x 49 columns]"
      ]
     },
     "execution_count": 173,
     "metadata": {},
     "output_type": "execute_result"
    }
   ],
   "source": [
    "dc_df = pd.read_csv(\"DC_Properties.csv\")\n",
    "dc_df.head()"
   ]
  },
  {
   "cell_type": "code",
   "execution_count": 174,
   "metadata": {},
   "outputs": [],
   "source": [
    "dc_df.dropna(subset=['ROOMS','BEDRM','BATHRM','HF_BATHRM','FIREPLACES','EYB','PRICE','LANDAREA','NUM_UNITS','YR_RMDL','GBA','KITCHENS'], inplace=True)"
   ]
  },
  {
   "cell_type": "code",
   "execution_count": 175,
   "metadata": {},
   "outputs": [],
   "source": [
    "dc_df[\"STATE\"].fillna(\"DC\", inplace=True)\n",
    "dc_df[\"CITY\"].fillna(\"Washington\", inplace=True)\n",
    "dc_df[\"QUADRANT\"].fillna(\"DC1\", inplace=True)\n",
    "dc_df[\"FULLADDRESS\"].fillna(\"DC1\", inplace=True)\n",
    "dc_df[\"AYB\"].fillna(dc_df[\"AYB\"].mean(), inplace=True)\n",
    "dc_df[\"LIVING_GBA\"].fillna(\"15\", inplace=True)\n",
    "dc_df[\"CMPLX_NUM\"].fillna(\"1\", inplace=True)\n",
    "dc_df[\"STORIES\"].fillna(dc_df[\"STORIES\"].mean(), inplace=True)\n",
    "dc_df[\"ASSESSMENT_SUBNBHD\"].fillna(\"DC1\", inplace=True)\n",
    "dc_df[\"CENSUS_BLOCK\"].fillna(\"2000-2006\", inplace=True)\n",
    "dc_df[\"X\"].fillna(dc_df[\"X\"].mean(), inplace=True)\n",
    "dc_df[\"Y\"].fillna(dc_df[\"Y\"].mean(), inplace=True)\n",
    "dc_df[\"NATIONALGRID\"].fillna(\"18S UJ 27939 07886\", inplace=True)"
   ]
  },
  {
   "cell_type": "code",
   "execution_count": 176,
   "metadata": {},
   "outputs": [
    {
     "name": "stdout",
     "output_type": "stream",
     "text": [
      "Unnamed: 0            0\n",
      "BATHRM                0\n",
      "HF_BATHRM             0\n",
      "HEAT                  0\n",
      "AC                    0\n",
      "NUM_UNITS             0\n",
      "ROOMS                 0\n",
      "BEDRM                 0\n",
      "AYB                   0\n",
      "YR_RMDL               0\n",
      "EYB                   0\n",
      "STORIES               0\n",
      "SALEDATE              0\n",
      "PRICE                 0\n",
      "QUALIFIED             0\n",
      "SALE_NUM              0\n",
      "GBA                   0\n",
      "BLDG_NUM              0\n",
      "STYLE                 0\n",
      "STRUCT                0\n",
      "GRADE                 0\n",
      "CNDTN                 0\n",
      "EXTWALL               0\n",
      "ROOF                  0\n",
      "INTWALL               0\n",
      "KITCHENS              0\n",
      "FIREPLACES            0\n",
      "USECODE               0\n",
      "LANDAREA              0\n",
      "GIS_LAST_MOD_DTTM     0\n",
      "SOURCE                0\n",
      "CMPLX_NUM             0\n",
      "LIVING_GBA            0\n",
      "FULLADDRESS           0\n",
      "CITY                  0\n",
      "STATE                 0\n",
      "ZIPCODE               0\n",
      "NATIONALGRID          0\n",
      "LATITUDE              0\n",
      "LONGITUDE             0\n",
      "ASSESSMENT_NBHD       0\n",
      "ASSESSMENT_SUBNBHD    0\n",
      "CENSUS_TRACT          0\n",
      "CENSUS_BLOCK          0\n",
      "WARD                  0\n",
      "SQUARE                0\n",
      "X                     0\n",
      "Y                     0\n",
      "QUADRANT              0\n",
      "dtype: int64\n"
     ]
    }
   ],
   "source": [
    "print(dc_df.isnull().sum())"
   ]
  },
  {
   "cell_type": "code",
   "execution_count": 177,
   "metadata": {},
   "outputs": [
    {
     "data": {
      "text/plain": [
       "33217"
      ]
     },
     "execution_count": 177,
     "metadata": {},
     "output_type": "execute_result"
    }
   ],
   "source": [
    "len(dc_df)"
   ]
  },
  {
   "cell_type": "code",
   "execution_count": 178,
   "metadata": {},
   "outputs": [
    {
     "data": {
      "text/html": [
       "<div>\n",
       "<style scoped>\n",
       "    .dataframe tbody tr th:only-of-type {\n",
       "        vertical-align: middle;\n",
       "    }\n",
       "\n",
       "    .dataframe tbody tr th {\n",
       "        vertical-align: top;\n",
       "    }\n",
       "\n",
       "    .dataframe thead th {\n",
       "        text-align: right;\n",
       "    }\n",
       "</style>\n",
       "<table border=\"1\" class=\"dataframe\">\n",
       "  <thead>\n",
       "    <tr style=\"text-align: right;\">\n",
       "      <th></th>\n",
       "      <th>Unnamed: 0</th>\n",
       "      <th>BATHRM</th>\n",
       "      <th>HF_BATHRM</th>\n",
       "      <th>NUM_UNITS</th>\n",
       "      <th>ROOMS</th>\n",
       "      <th>BEDRM</th>\n",
       "      <th>AYB</th>\n",
       "      <th>YR_RMDL</th>\n",
       "      <th>EYB</th>\n",
       "      <th>STORIES</th>\n",
       "      <th>...</th>\n",
       "      <th>KITCHENS</th>\n",
       "      <th>FIREPLACES</th>\n",
       "      <th>USECODE</th>\n",
       "      <th>LANDAREA</th>\n",
       "      <th>ZIPCODE</th>\n",
       "      <th>LATITUDE</th>\n",
       "      <th>LONGITUDE</th>\n",
       "      <th>CENSUS_TRACT</th>\n",
       "      <th>X</th>\n",
       "      <th>Y</th>\n",
       "    </tr>\n",
       "  </thead>\n",
       "  <tbody>\n",
       "    <tr>\n",
       "      <td>count</td>\n",
       "      <td>33217.000000</td>\n",
       "      <td>33217.000000</td>\n",
       "      <td>33217.000000</td>\n",
       "      <td>33217.000000</td>\n",
       "      <td>33217.000000</td>\n",
       "      <td>33217.000000</td>\n",
       "      <td>33217.000000</td>\n",
       "      <td>33217.000000</td>\n",
       "      <td>33217.000000</td>\n",
       "      <td>33217.000000</td>\n",
       "      <td>...</td>\n",
       "      <td>33217.000000</td>\n",
       "      <td>33217.000000</td>\n",
       "      <td>33217.000000</td>\n",
       "      <td>33217.000000</td>\n",
       "      <td>33217.000000</td>\n",
       "      <td>33217.000000</td>\n",
       "      <td>33217.000000</td>\n",
       "      <td>33217.000000</td>\n",
       "      <td>33217.000000</td>\n",
       "      <td>33217.000000</td>\n",
       "    </tr>\n",
       "    <tr>\n",
       "      <td>mean</td>\n",
       "      <td>45489.073366</td>\n",
       "      <td>2.376614</td>\n",
       "      <td>0.682693</td>\n",
       "      <td>1.239727</td>\n",
       "      <td>7.578409</td>\n",
       "      <td>3.527862</td>\n",
       "      <td>1924.163140</td>\n",
       "      <td>2004.257188</td>\n",
       "      <td>1969.381341</td>\n",
       "      <td>2.157724</td>\n",
       "      <td>...</td>\n",
       "      <td>1.283228</td>\n",
       "      <td>0.759370</td>\n",
       "      <td>13.583406</td>\n",
       "      <td>3158.990186</td>\n",
       "      <td>20010.264533</td>\n",
       "      <td>38.916772</td>\n",
       "      <td>-77.014532</td>\n",
       "      <td>5215.999669</td>\n",
       "      <td>-77.014567</td>\n",
       "      <td>38.916729</td>\n",
       "    </tr>\n",
       "    <tr>\n",
       "      <td>std</td>\n",
       "      <td>30233.840436</td>\n",
       "      <td>1.057769</td>\n",
       "      <td>0.597733</td>\n",
       "      <td>0.613896</td>\n",
       "      <td>2.331884</td>\n",
       "      <td>1.168727</td>\n",
       "      <td>22.166792</td>\n",
       "      <td>16.644758</td>\n",
       "      <td>10.523992</td>\n",
       "      <td>5.194458</td>\n",
       "      <td>...</td>\n",
       "      <td>0.673154</td>\n",
       "      <td>0.986781</td>\n",
       "      <td>4.520530</td>\n",
       "      <td>3288.877032</td>\n",
       "      <td>7.511268</td>\n",
       "      <td>0.031308</td>\n",
       "      <td>0.041566</td>\n",
       "      <td>3414.827476</td>\n",
       "      <td>0.041529</td>\n",
       "      <td>0.031248</td>\n",
       "    </tr>\n",
       "    <tr>\n",
       "      <td>min</td>\n",
       "      <td>0.000000</td>\n",
       "      <td>0.000000</td>\n",
       "      <td>0.000000</td>\n",
       "      <td>0.000000</td>\n",
       "      <td>0.000000</td>\n",
       "      <td>0.000000</td>\n",
       "      <td>1754.000000</td>\n",
       "      <td>20.000000</td>\n",
       "      <td>1915.000000</td>\n",
       "      <td>0.000000</td>\n",
       "      <td>...</td>\n",
       "      <td>0.000000</td>\n",
       "      <td>0.000000</td>\n",
       "      <td>11.000000</td>\n",
       "      <td>216.000000</td>\n",
       "      <td>20001.000000</td>\n",
       "      <td>38.819731</td>\n",
       "      <td>-77.113909</td>\n",
       "      <td>100.000000</td>\n",
       "      <td>-77.113135</td>\n",
       "      <td>38.820576</td>\n",
       "    </tr>\n",
       "    <tr>\n",
       "      <td>25%</td>\n",
       "      <td>18326.000000</td>\n",
       "      <td>2.000000</td>\n",
       "      <td>0.000000</td>\n",
       "      <td>1.000000</td>\n",
       "      <td>6.000000</td>\n",
       "      <td>3.000000</td>\n",
       "      <td>1910.000000</td>\n",
       "      <td>2002.000000</td>\n",
       "      <td>1964.000000</td>\n",
       "      <td>2.000000</td>\n",
       "      <td>...</td>\n",
       "      <td>1.000000</td>\n",
       "      <td>0.000000</td>\n",
       "      <td>11.000000</td>\n",
       "      <td>1471.000000</td>\n",
       "      <td>20003.000000</td>\n",
       "      <td>38.894629</td>\n",
       "      <td>-77.041932</td>\n",
       "      <td>1901.000000</td>\n",
       "      <td>-77.042118</td>\n",
       "      <td>38.894569</td>\n",
       "    </tr>\n",
       "    <tr>\n",
       "      <td>50%</td>\n",
       "      <td>41584.000000</td>\n",
       "      <td>2.000000</td>\n",
       "      <td>1.000000</td>\n",
       "      <td>1.000000</td>\n",
       "      <td>7.000000</td>\n",
       "      <td>3.000000</td>\n",
       "      <td>1924.163140</td>\n",
       "      <td>2008.000000</td>\n",
       "      <td>1967.000000</td>\n",
       "      <td>2.000000</td>\n",
       "      <td>...</td>\n",
       "      <td>1.000000</td>\n",
       "      <td>1.000000</td>\n",
       "      <td>12.000000</td>\n",
       "      <td>2090.000000</td>\n",
       "      <td>20010.000000</td>\n",
       "      <td>38.914714</td>\n",
       "      <td>-77.011864</td>\n",
       "      <td>5201.000000</td>\n",
       "      <td>-77.011517</td>\n",
       "      <td>38.914927</td>\n",
       "    </tr>\n",
       "    <tr>\n",
       "      <td>75%</td>\n",
       "      <td>70798.000000</td>\n",
       "      <td>3.000000</td>\n",
       "      <td>1.000000</td>\n",
       "      <td>1.000000</td>\n",
       "      <td>9.000000</td>\n",
       "      <td>4.000000</td>\n",
       "      <td>1939.000000</td>\n",
       "      <td>2013.000000</td>\n",
       "      <td>1972.000000</td>\n",
       "      <td>2.000000</td>\n",
       "      <td>...</td>\n",
       "      <td>1.000000</td>\n",
       "      <td>1.000000</td>\n",
       "      <td>13.000000</td>\n",
       "      <td>3988.000000</td>\n",
       "      <td>20016.000000</td>\n",
       "      <td>38.939201</td>\n",
       "      <td>-76.987229</td>\n",
       "      <td>8200.000000</td>\n",
       "      <td>-76.987055</td>\n",
       "      <td>38.939045</td>\n",
       "    </tr>\n",
       "    <tr>\n",
       "      <td>max</td>\n",
       "      <td>106695.000000</td>\n",
       "      <td>11.000000</td>\n",
       "      <td>11.000000</td>\n",
       "      <td>6.000000</td>\n",
       "      <td>31.000000</td>\n",
       "      <td>20.000000</td>\n",
       "      <td>2015.000000</td>\n",
       "      <td>2019.000000</td>\n",
       "      <td>2017.000000</td>\n",
       "      <td>826.000000</td>\n",
       "      <td>...</td>\n",
       "      <td>44.000000</td>\n",
       "      <td>13.000000</td>\n",
       "      <td>39.000000</td>\n",
       "      <td>155905.000000</td>\n",
       "      <td>20052.000000</td>\n",
       "      <td>38.994894</td>\n",
       "      <td>-76.909758</td>\n",
       "      <td>11100.000000</td>\n",
       "      <td>-76.910511</td>\n",
       "      <td>38.993646</td>\n",
       "    </tr>\n",
       "  </tbody>\n",
       "</table>\n",
       "<p>8 rows × 24 columns</p>\n",
       "</div>"
      ],
      "text/plain": [
       "          Unnamed: 0        BATHRM     HF_BATHRM     NUM_UNITS         ROOMS  \\\n",
       "count   33217.000000  33217.000000  33217.000000  33217.000000  33217.000000   \n",
       "mean    45489.073366      2.376614      0.682693      1.239727      7.578409   \n",
       "std     30233.840436      1.057769      0.597733      0.613896      2.331884   \n",
       "min         0.000000      0.000000      0.000000      0.000000      0.000000   \n",
       "25%     18326.000000      2.000000      0.000000      1.000000      6.000000   \n",
       "50%     41584.000000      2.000000      1.000000      1.000000      7.000000   \n",
       "75%     70798.000000      3.000000      1.000000      1.000000      9.000000   \n",
       "max    106695.000000     11.000000     11.000000      6.000000     31.000000   \n",
       "\n",
       "              BEDRM           AYB       YR_RMDL           EYB       STORIES  \\\n",
       "count  33217.000000  33217.000000  33217.000000  33217.000000  33217.000000   \n",
       "mean       3.527862   1924.163140   2004.257188   1969.381341      2.157724   \n",
       "std        1.168727     22.166792     16.644758     10.523992      5.194458   \n",
       "min        0.000000   1754.000000     20.000000   1915.000000      0.000000   \n",
       "25%        3.000000   1910.000000   2002.000000   1964.000000      2.000000   \n",
       "50%        3.000000   1924.163140   2008.000000   1967.000000      2.000000   \n",
       "75%        4.000000   1939.000000   2013.000000   1972.000000      2.000000   \n",
       "max       20.000000   2015.000000   2019.000000   2017.000000    826.000000   \n",
       "\n",
       "       ...      KITCHENS    FIREPLACES       USECODE       LANDAREA  \\\n",
       "count  ...  33217.000000  33217.000000  33217.000000   33217.000000   \n",
       "mean   ...      1.283228      0.759370     13.583406    3158.990186   \n",
       "std    ...      0.673154      0.986781      4.520530    3288.877032   \n",
       "min    ...      0.000000      0.000000     11.000000     216.000000   \n",
       "25%    ...      1.000000      0.000000     11.000000    1471.000000   \n",
       "50%    ...      1.000000      1.000000     12.000000    2090.000000   \n",
       "75%    ...      1.000000      1.000000     13.000000    3988.000000   \n",
       "max    ...     44.000000     13.000000     39.000000  155905.000000   \n",
       "\n",
       "            ZIPCODE      LATITUDE     LONGITUDE  CENSUS_TRACT             X  \\\n",
       "count  33217.000000  33217.000000  33217.000000  33217.000000  33217.000000   \n",
       "mean   20010.264533     38.916772    -77.014532   5215.999669    -77.014567   \n",
       "std        7.511268      0.031308      0.041566   3414.827476      0.041529   \n",
       "min    20001.000000     38.819731    -77.113909    100.000000    -77.113135   \n",
       "25%    20003.000000     38.894629    -77.041932   1901.000000    -77.042118   \n",
       "50%    20010.000000     38.914714    -77.011864   5201.000000    -77.011517   \n",
       "75%    20016.000000     38.939201    -76.987229   8200.000000    -76.987055   \n",
       "max    20052.000000     38.994894    -76.909758  11100.000000    -76.910511   \n",
       "\n",
       "                  Y  \n",
       "count  33217.000000  \n",
       "mean      38.916729  \n",
       "std        0.031248  \n",
       "min       38.820576  \n",
       "25%       38.894569  \n",
       "50%       38.914927  \n",
       "75%       38.939045  \n",
       "max       38.993646  \n",
       "\n",
       "[8 rows x 24 columns]"
      ]
     },
     "execution_count": 178,
     "metadata": {},
     "output_type": "execute_result"
    }
   ],
   "source": [
    "dc_df.describe()"
   ]
  },
  {
   "cell_type": "code",
   "execution_count": 179,
   "metadata": {},
   "outputs": [
    {
     "data": {
      "text/plain": [
       "array([[<matplotlib.axes._subplots.AxesSubplot object at 0x00000026ECB8CCC8>,\n",
       "        <matplotlib.axes._subplots.AxesSubplot object at 0x00000026ECB9A7C8>,\n",
       "        <matplotlib.axes._subplots.AxesSubplot object at 0x00000026D4CAD688>,\n",
       "        <matplotlib.axes._subplots.AxesSubplot object at 0x00000026D4CE17C8>,\n",
       "        <matplotlib.axes._subplots.AxesSubplot object at 0x00000026D4D1A648>],\n",
       "       [<matplotlib.axes._subplots.AxesSubplot object at 0x00000026D4D53748>,\n",
       "        <matplotlib.axes._subplots.AxesSubplot object at 0x00000026D4D8A888>,\n",
       "        <matplotlib.axes._subplots.AxesSubplot object at 0x00000026D4DC29C8>,\n",
       "        <matplotlib.axes._subplots.AxesSubplot object at 0x00000026D4DCDE88>,\n",
       "        <matplotlib.axes._subplots.AxesSubplot object at 0x00000026D4E0E088>],\n",
       "       [<matplotlib.axes._subplots.AxesSubplot object at 0x00000026D4E6CD48>,\n",
       "        <matplotlib.axes._subplots.AxesSubplot object at 0x00000026D4EAFE88>,\n",
       "        <matplotlib.axes._subplots.AxesSubplot object at 0x00000026D4EDDE48>,\n",
       "        <matplotlib.axes._subplots.AxesSubplot object at 0x00000026D4F15F88>,\n",
       "        <matplotlib.axes._subplots.AxesSubplot object at 0x00000026D4F540C8>],\n",
       "       [<matplotlib.axes._subplots.AxesSubplot object at 0x00000026D4F8E1C8>,\n",
       "        <matplotlib.axes._subplots.AxesSubplot object at 0x00000026D4FC62C8>,\n",
       "        <matplotlib.axes._subplots.AxesSubplot object at 0x00000026D4FFD3C8>,\n",
       "        <matplotlib.axes._subplots.AxesSubplot object at 0x00000026D50354C8>,\n",
       "        <matplotlib.axes._subplots.AxesSubplot object at 0x00000026DB0CF608>],\n",
       "       [<matplotlib.axes._subplots.AxesSubplot object at 0x00000026DB107708>,\n",
       "        <matplotlib.axes._subplots.AxesSubplot object at 0x00000026D58ED508>,\n",
       "        <matplotlib.axes._subplots.AxesSubplot object at 0x00000026DB15EF48>,\n",
       "        <matplotlib.axes._subplots.AxesSubplot object at 0x00000026DB19D088>,\n",
       "        <matplotlib.axes._subplots.AxesSubplot object at 0x00000026DB1D6188>]],\n",
       "      dtype=object)"
      ]
     },
     "execution_count": 179,
     "metadata": {},
     "output_type": "execute_result"
    },
    {
     "data": {
      "image/png": "[encoded data removed]",
      "text/plain": [
       "<Figure size 720x720 with 25 Axes>"
      ]
     },
     "metadata": {
      "needs_background": "light"
     },
     "output_type": "display_data"
    }
   ],
   "source": [
    "dc_df.hist(figsize=(10,10))"
   ]
  },
  {
   "cell_type": "code",
   "execution_count": 180,
   "metadata": {},
   "outputs": [
    {
     "data": {
      "text/plain": [
       "array([[<matplotlib.axes._subplots.AxesSubplot object at 0x00000026DB8EB448>,\n",
       "        <matplotlib.axes._subplots.AxesSubplot object at 0x00000026DB7F5688>,\n",
       "        <matplotlib.axes._subplots.AxesSubplot object at 0x00000026DB4F7DC8>,\n",
       "        <matplotlib.axes._subplots.AxesSubplot object at 0x00000026DB50D688>,\n",
       "        <matplotlib.axes._subplots.AxesSubplot object at 0x00000026DB53DF08>],\n",
       "       [<matplotlib.axes._subplots.AxesSubplot object at 0x00000026DB5797C8>,\n",
       "        <matplotlib.axes._subplots.AxesSubplot object at 0x00000026DB5B4608>,\n",
       "        <matplotlib.axes._subplots.AxesSubplot object at 0x00000026DB5EB608>,\n",
       "        <matplotlib.axes._subplots.AxesSubplot object at 0x00000026DB5F5A48>,\n",
       "        <matplotlib.axes._subplots.AxesSubplot object at 0x00000026DB62DAC8>],\n",
       "       [<matplotlib.axes._subplots.AxesSubplot object at 0x00000026DB694588>,\n",
       "        <matplotlib.axes._subplots.AxesSubplot object at 0x00000026DB6CC4C8>,\n",
       "        <matplotlib.axes._subplots.AxesSubplot object at 0x00000026DBAD4488>,\n",
       "        <matplotlib.axes._subplots.AxesSubplot object at 0x00000026DBB0C488>,\n",
       "        <matplotlib.axes._subplots.AxesSubplot object at 0x00000026DBB48448>],\n",
       "       [<matplotlib.axes._subplots.AxesSubplot object at 0x00000026DBB7F408>,\n",
       "        <matplotlib.axes._subplots.AxesSubplot object at 0x00000026DBBB9388>,\n",
       "        <matplotlib.axes._subplots.AxesSubplot object at 0x00000026DBBF1388>,\n",
       "        <matplotlib.axes._subplots.AxesSubplot object at 0x00000026DBC2B348>,\n",
       "        <matplotlib.axes._subplots.AxesSubplot object at 0x00000026E1E81308>],\n",
       "       [<matplotlib.axes._subplots.AxesSubplot object at 0x00000026E1EBB308>,\n",
       "        <matplotlib.axes._subplots.AxesSubplot object at 0x00000026E1EF32C8>,\n",
       "        <matplotlib.axes._subplots.AxesSubplot object at 0x00000026E1F2C208>,\n",
       "        <matplotlib.axes._subplots.AxesSubplot object at 0x00000026E1F64208>,\n",
       "        <matplotlib.axes._subplots.AxesSubplot object at 0x00000026E1F9E1C8>]],\n",
       "      dtype=object)"
      ]
     },
     "execution_count": 180,
     "metadata": {},
     "output_type": "execute_result"
    },
    {
     "data": {
      "image/png": "[encoded data removed]",
      "text/plain": [
       "<Figure size 720x720 with 25 Axes>"
      ]
     },
     "metadata": {
      "needs_background": "light"
     },
     "output_type": "display_data"
    }
   ],
   "source": [
    "dc_df.hist(figsize=(10,10), sharex=True)"
   ]
  },
  {
   "cell_type": "code",
   "execution_count": 181,
   "metadata": {},
   "outputs": [
    {
     "data": {
      "text/plain": [
       "0    1095000.0\n",
       "2    2100000.0\n",
       "3    1602000.0\n",
       "7    1050000.0\n",
       "8    1430000.0\n",
       "Name: PRICE, dtype: float64"
      ]
     },
     "execution_count": 181,
     "metadata": {},
     "output_type": "execute_result"
    }
   ],
   "source": [
    "dc_df['PRICE'].head()"
   ]
  },
  {
   "cell_type": "markdown",
   "metadata": {},
   "source": [
    "z-score standardization only for price column"
   ]
  },
  {
   "cell_type": "code",
   "execution_count": 182,
   "metadata": {},
   "outputs": [],
   "source": [
    "scaler = StandardScaler()"
   ]
  },
  {
   "cell_type": "code",
   "execution_count": 183,
   "metadata": {},
   "outputs": [
    {
     "data": {
      "text/plain": [
       "array([[ 0.63498656],\n",
       "       [ 2.19242196],\n",
       "       [ 1.42067785],\n",
       "       ...,\n",
       "       [-0.77522857],\n",
       "       [-0.72873796],\n",
       "       [-0.84496449]])"
      ]
     },
     "execution_count": 183,
     "metadata": {},
     "output_type": "execute_result"
    }
   ],
   "source": [
    "price_zscore = scaler.fit_transform(dc_df[['PRICE']])\n",
    "price_zscore"
   ]
  },
  {
   "cell_type": "code",
   "execution_count": 184,
   "metadata": {},
   "outputs": [
    {
     "data": {
      "text/plain": [
       "(-9.069757050976382e-17, 1.0)"
      ]
     },
     "execution_count": 184,
     "metadata": {},
     "output_type": "execute_result"
    }
   ],
   "source": [
    "price_zscore.mean(), price_zscore.std()"
   ]
  },
  {
   "cell_type": "code",
   "execution_count": 185,
   "metadata": {},
   "outputs": [
    {
     "data": {
      "text/plain": [
       "0    0.634987\n",
       "1    2.192422\n",
       "2    1.420678\n",
       "3    0.565251\n",
       "4    1.154132\n",
       "dtype: float64"
      ]
     },
     "execution_count": 185,
     "metadata": {},
     "output_type": "execute_result"
    }
   ],
   "source": [
    "pr_z_col = pd.Series(price_zscore.reshape(-1))\n",
    "pr_z_col.head()"
   ]
  },
  {
   "cell_type": "code",
   "execution_count": 186,
   "metadata": {},
   "outputs": [
    {
     "data": {
      "text/plain": [
       "<matplotlib.axes._subplots.AxesSubplot at 0x26e1f17d88>"
      ]
     },
     "execution_count": 186,
     "metadata": {},
     "output_type": "execute_result"
    },
    {
     "data": {
      "image/png": "[encoded data removed]",
      "text/plain": [
       "<Figure size 432x288 with 1 Axes>"
      ]
     },
     "metadata": {
      "needs_background": "light"
     },
     "output_type": "display_data"
    }
   ],
   "source": [
    "dc_df['PRICE'].hist()"
   ]
  },
  {
   "cell_type": "markdown",
   "metadata": {},
   "source": [
    "Min-max scaling for price column"
   ]
  },
  {
   "cell_type": "code",
   "execution_count": 187,
   "metadata": {},
   "outputs": [],
   "source": [
    "minmax_sc = MinMaxScaler()"
   ]
  },
  {
   "cell_type": "code",
   "execution_count": 188,
   "metadata": {},
   "outputs": [],
   "source": [
    "price_minmax = minmax_sc.fit_transform(dc_df[['PRICE']])"
   ]
  },
  {
   "cell_type": "code",
   "execution_count": 189,
   "metadata": {},
   "outputs": [
    {
     "data": {
      "text/plain": [
       "(0.028599303734693552, 0.026931715807175894)"
      ]
     },
     "execution_count": 189,
     "metadata": {},
     "output_type": "execute_result"
    }
   ],
   "source": [
    "price_minmax.mean(), price_minmax.std()"
   ]
  },
  {
   "cell_type": "code",
   "execution_count": 190,
   "metadata": {},
   "outputs": [
    {
     "data": {
      "text/plain": [
       "0    0.045701\n",
       "1    0.087645\n",
       "2    0.066861\n",
       "3    0.043822\n",
       "4    0.059682\n",
       "dtype: float64"
      ]
     },
     "execution_count": 190,
     "metadata": {},
     "output_type": "execute_result"
    }
   ],
   "source": [
    "pr_mm_col = pd.Series(price_minmax.reshape(-1))\n",
    "pr_mm_col.head()"
   ]
  },
  {
   "cell_type": "code",
   "execution_count": 191,
   "metadata": {},
   "outputs": [
    {
     "data": {
      "text/plain": [
       "(0.0, 1.0)"
      ]
     },
     "execution_count": 191,
     "metadata": {},
     "output_type": "execute_result"
    }
   ],
   "source": [
    "pr_mm_col.min(), pr_mm_col.max()"
   ]
  },
  {
   "cell_type": "code",
   "execution_count": 192,
   "metadata": {},
   "outputs": [
    {
     "data": {
      "text/plain": [
       "<matplotlib.axes._subplots.AxesSubplot at 0x26e32e7f88>"
      ]
     },
     "execution_count": 192,
     "metadata": {},
     "output_type": "execute_result"
    },
    {
     "data": {
      "image/png": "[encoded data removed]",
      "text/plain": [
       "<Figure size 432x288 with 1 Axes>"
      ]
     },
     "metadata": {
      "needs_background": "light"
     },
     "output_type": "display_data"
    }
   ],
   "source": [
    "pr_mm_col.hist()"
   ]
  },
  {
   "cell_type": "code",
   "execution_count": null,
   "metadata": {},
   "outputs": [],
   "source": []
  }
 ],
 "metadata": {
  "kernelspec": {
   "display_name": "Python 3",
   "language": "python",
   "name": "python3"
  },
  "language_info": {
   "codemirror_mode": {
    "name": "ipython",
    "version": 3
   },
   "file_extension": ".py",
   "mimetype": "text/x-python",
   "name": "python",
   "nbconvert_exporter": "python",
   "pygments_lexer": "ipython3",
   "version": "3.7.4"
  }
 },
 "nbformat": 4,
 "nbformat_minor": 2
}
