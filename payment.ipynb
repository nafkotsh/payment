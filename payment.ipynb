{
 "cells": [
  {
   "cell_type": "code",
   "execution_count": 70,
   "metadata": {},
   "outputs": [],
   "source": [
    "import pandas as pd\n",
    "import numpy as np"
   ]
  },
  {
   "cell_type": "code",
   "execution_count": 71,
   "metadata": {},
   "outputs": [
    {
     "name": "stdout",
     "output_type": "stream",
     "text": [
      "  ID_Number  Name  Pay_Rate  Hours_Worked\n",
      "0       001  Mary      15.0            40\n",
      "1       002  John      22.0            25\n",
      "2       003   Bob      35.0             4\n",
      "3       004   Mel      43.0            62\n",
      "4       005   Jen      17.0            33\n",
      "5       006   Sue      29.0            45\n",
      "6       007   Ken      40.0            36\n",
      "7       008  Dave      20.0            17\n",
      "8       009  Beth      37.0            37\n",
      "9       010   Ray      16.5            80\n"
     ]
    }
   ],
   "source": [
    "ID_Number=['001','002','003','004','005','006','007','008','009','010']\n",
    "Name=['Mary','John','Bob','Mel','Jen','Sue','Ken','Dave','Beth','Ray']\n",
    "Pay_Rate=[15.00,22.0,35.00,43.00,17.00,29.00,40.00,20.00,37.00,16.50]\n",
    "Hours_Worked=[40,25,4,62,33,45,36,17,37,80]\n",
    "employee_Data=list(zip(ID_Number,Name,Pay_Rate, Hours_Worked))\n",
    "df_employee=pd.DataFrame(data=employee_Data, columns=['ID_Number','Name','Pay_Rate', 'Hours_Worked'])\n",
    "print(df_employee)"
   ]
  },
  {
   "cell_type": "code",
   "execution_count": 112,
   "metadata": {},
   "outputs": [
    {
     "name": "stdout",
     "output_type": "stream",
     "text": [
      "ID  Name  Payment\n",
      "001 Mary $1650.0\n",
      "002 John $550.0\n",
      "003 Bob $140.0\n",
      "004 Mel $3139.0\n",
      "005 Jen $561.0\n",
      "006 Sue $1377.5\n",
      "007 Ken $1440.0\n",
      "008 Dave $340.0\n",
      "009 Beth $1369.0\n",
      "010 Ray $1650.0\n"
     ]
    }
   ],
   "source": [
    "print('ID  Name  Payment')\n",
    "for i in range (0,10):\n",
    "    if Hours_Worked[i]>40:\n",
    "        overtime=Hours_Worked[i]-40\n",
    "        overpay=overtime*1.5*Pay_Rate[i]\n",
    "        pay=40*Pay_Rate[i]+overpay\n",
    "    elif Hours_Worked[i]<40:\n",
    "        pay=Hours_Worked[i]*Pay_Rate[i] \n",
    "    print(ID_Number[i],Name[i], \"$\"+str(pay))"
   ]
  },
  {
   "cell_type": "code",
   "execution_count": null,
   "metadata": {},
   "outputs": [],
   "source": []
  }
 ],
 "metadata": {
  "kernelspec": {
   "display_name": "Python 3",
   "language": "python",
   "name": "python3"
  },
  "language_info": {
   "codemirror_mode": {
    "name": "ipython",
    "version": 3
   },
   "file_extension": ".py",
   "mimetype": "text/x-python",
   "name": "python",
   "nbconvert_exporter": "python",
   "pygments_lexer": "ipython3",
   "version": "3.7.3"
  }
 },
 "nbformat": 4,
 "nbformat_minor": 2
}
